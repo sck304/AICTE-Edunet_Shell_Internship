{
  "nbformat": 4,
  "nbformat_minor": 0,
  "metadata": {
    "colab": {
      "provenance": [],
      "mount_file_id": "12qYFUzQ5sdGDU2geOwuSSEsv_rRr9oYD",
      "authorship_tag": "ABX9TyPvTMgtIrFBtAPTJ8V1KVvR"
    },
    "kernelspec": {
      "name": "python3",
      "display_name": "Python 3"
    },
    "language_info": {
      "name": "python"
    }
  },
  "cells": [
    {
      "cell_type": "code",
      "execution_count": null,
      "metadata": {
        "id": "sJ4zyN2Ip-0_"
      },
      "outputs": [],
      "source": [
        "import tensorflow as tf  # Core TensorFlow library\n",
        "\n",
        "from tensorflow.keras import layers, models, optimizers, callbacks  # Layers, model creation, optimizers, and training callbacks\n",
        "\n",
        "from tensorflow.keras.models import Sequential, load_model  # For sequential model architecture and loading saved models\n",
        "\n",
        "from tensorflow.keras.applications import EfficientNetV2B0  # Pretrained EfficientNetV2B0 model for transfer learning\n",
        "\n",
        "from tensorflow.keras.applications.efficientnet import preprocess_input  # Preprocessing function specific to EfficientNet\n",
        "\n",
        "import numpy as np  # Numerical operations and array handling\n",
        "\n",
        "import matplotlib.pyplot as plt  # Plotting graphs and images\n",
        "\n",
        "import seaborn as sns  # Plotting graphs and images\n",
        "\n",
        "from sklearn.metrics import confusion_matrix, classification_report  # Evaluation metrics for classification models\n",
        "\n",
        "import gradio as gr  # Web interface library to deploy and test ML models\n",
        "\n",
        "from PIL import Image  # For image file loading and basic image operations"
      ]
    },
    {
      "cell_type": "code",
      "source": [
        "testpath= r'C:\\Users\\Edunet Foundation\\Downloads\\project\\E waste data\\modified-dataset\\test'\n",
        "trainpath= r'C:\\Users\\Edunet Foundation\\Downloads\\project\\E waste data\\modified-dataset\\train'\n",
        "validpath = r'C:\\Users\\Edunet Foundation\\Downloads\\project\\E waste data\\modified-dataset\\val'"
      ],
      "metadata": {
        "id": "d4A8y_Wo7V99"
      },
      "execution_count": null,
      "outputs": []
    },
    {
      "cell_type": "code",
      "source": [
        "datatrain= tf.keras.utils.image_dataset_from_directory(trainpath,shuffle = True, image_size = (128,128), batch_size = 32, validation_split= False)"
      ],
      "metadata": {
        "id": "a-GHIPnB9U0X"
      },
      "execution_count": null,
      "outputs": []
    },
    {
      "cell_type": "code",
      "source": [
        "datatest=tf.keras.utils.image_dataset_from_directory(testpath,shuffle = False, image_size = (128,128), batch_size = 32, validation_split= False)"
      ],
      "metadata": {
        "id": "KdKf8K4x9Uw_"
      },
      "execution_count": null,
      "outputs": []
    },
    {
      "cell_type": "code",
      "source": [
        "datavalid = tf.keras.utils.image_dataset_from_directory(validpath,shuffle = True, image_size = (128,128), batch_size = 32, validation_split= False)"
      ],
      "metadata": {
        "id": "eQtmqS-y9Ut_"
      },
      "execution_count": null,
      "outputs": []
    },
    {
      "cell_type": "code",
      "source": [
        "from google.colab import drive\n",
        "drive.mount('/content/drive')"
      ],
      "metadata": {
        "id": "SqHxyZWD91jX"
      },
      "execution_count": null,
      "outputs": []
    },
    {
      "cell_type": "code",
      "source": [
        "print(len(datatrain.class_names))\n",
        "class_names = datatrain.class_names\n",
        "print(class_names)"
      ],
      "metadata": {
        "id": "5KGg3tDD9UrQ"
      },
      "execution_count": null,
      "outputs": []
    },
    {
      "cell_type": "code",
      "source": [
        "# Set the size of the entire figure (width=10, height=10 inches)\n",
        "plt.figure(figsize=(10, 10))\n",
        "\n",
        "# Take one batch from the dataset and iterate over the images and labels\n",
        "for images, labels in datatrain.take(1):\n",
        "    # Display the first 12 images from the batch\n",
        "    for i in range(12):\n",
        "        # Create a 4x3 grid of subplots and select the (i+1)th position\n",
        "        ax = plt.subplot(4, 3, i + 1)\n",
        "\n",
        "        # Display the image; convert the tensor to a NumPy array and ensure correct type\n",
        "        plt.imshow(images[i].numpy().astype(\"uint8\"))\n",
        "\n",
        "        # Set the title of the subplot to the class name of the image\n",
        "        plt.title(class_names[labels[i]])\n",
        "\n",
        "        # Remove axis ticks and labels for clarity\n",
        "        plt.axis(\"off\")"
      ],
      "metadata": {
        "id": "TvYcoro_9Uoe"
      },
      "execution_count": null,
      "outputs": []
    },
    {
      "cell_type": "code",
      "source": [
        "def plot_class_distribution(dataset, title=\"Class Distribution\"):\n",
        "    \"\"\"\n",
        "    Plots the number of items per class in a given dataset.\n",
        "\n",
        "    Args:\n",
        "        dataset: A tf.data.Dataset object created using image_dataset_from_directory\n",
        "        title: Title for the plot (e.g., 'Train Data Distribution')\n",
        "    \"\"\"\n",
        "\n",
        "    class_counts = {}  # Dictionary to hold the count of each class\n",
        "\n",
        "    # Iterate through the batches in the dataset\n",
        "    for images, labels in dataset:\n",
        "        # Convert labels tensor to numpy array and loop through each label\n",
        "        for label in labels.numpy():\n",
        "            class_name = dataset.class_names[label]  # Get class name using label index\n",
        "            # Increment the count for this class\n",
        "            class_counts[class_name] = class_counts.get(class_name, 0) + 1"
      ],
      "metadata": {
        "id": "KfC0v4QE9UlZ"
      },
      "execution_count": null,
      "outputs": []
    },
    {
      "cell_type": "code",
      "source": [
        "# Prepare data for plotting\n",
        "    class_names = list(class_counts.keys())  # List of class names\n",
        "    counts = list(class_counts.values())     # Corresponding counts for each class"
      ],
      "metadata": {
        "id": "zRX9iURv9Uhi"
      },
      "execution_count": null,
      "outputs": []
    },
    {
      "cell_type": "code",
      "source": [
        "# Create the bar plot\n",
        "    plt.figure(figsize=(10, 6))  # Set the figure size\n",
        "    plt.bar(class_names, counts, color='skyblue')  # Draw bars with class counts\n",
        "    plt.xlabel(\"Class\")  # X-axis label\n",
        "    plt.ylabel(\"Number of Items\")  # Y-axis label\n",
        "    plt.title(title)  # Plot title\n",
        "    plt.xticks(rotation=45)  # Rotate x-axis labels for better readability\n",
        "    plt.tight_layout()  # Adjust layout to prevent clipping\n",
        "    plt.show()  # Display the plot"
      ],
      "metadata": {
        "id": "nBfVPbL4-IxL"
      },
      "execution_count": null,
      "outputs": []
    },
    {
      "cell_type": "code",
      "source": [
        "plot_class_distribution(datatrain, \"Training Data Distribution\")\n",
        "plot_class_distribution(datavalid, \"Validation Data Distribution\")\n",
        "plot_class_distribution(datatest, \"Test Data Distribution\")"
      ],
      "metadata": {
        "id": "1lfKiEDC-Itr"
      },
      "execution_count": null,
      "outputs": []
    },
    {
      "cell_type": "code",
      "source": [
        "data_augmentation = tf.keras.Sequential([\n",
        "    tf.keras.layers.RandomFlip(\"horizontal\"),\n",
        "    tf.keras.layers.RandomRotation(0.1),\n",
        "    tf.keras.layers.RandomZoom(0.1),\n",
        "])"
      ],
      "metadata": {
        "id": "LF-lW5Zx-IrL"
      },
      "execution_count": null,
      "outputs": []
    },
    {
      "cell_type": "code",
      "source": [
        "base_model = tf.keras.applications.EfficientNetV2B0(\n",
        "    input_shape=(128, 128, 3),\n",
        "    include_top=False,\n",
        "    weights='imagenet'\n",
        ")\n",
        "base_model.trainable = True\n",
        "for layer in base_model.layers[:100]:\n",
        "    layer.trainable = False"
      ],
      "metadata": {
        "id": "ty3YCh1U-Ioh"
      },
      "execution_count": null,
      "outputs": []
    },
    {
      "cell_type": "code",
      "source": [
        "model = tf.keras.Sequential([\n",
        "    tf.keras.layers.Input(shape=(128, 128, 3)),\n",
        "    data_augmentation,\n",
        "    base_model,\n",
        "    tf.keras.layers.GlobalAveragePooling2D(),\n",
        "    tf.keras.layers.Dropout(0.2),\n",
        "    tf.keras.layers.Dense(10, activation='softmax')\n",
        "])\n",
        "model.compile(optimizer=tf.keras.optimizers.Adam(learning_rate=0.0001),loss = tf.keras.losses.SparseCategoricalCrossentropy(), metrics=['Accuracy'])"
      ],
      "metadata": {
        "id": "BQW02_Zs-U8o"
      },
      "execution_count": null,
      "outputs": []
    },
    {
      "cell_type": "code",
      "source": [
        "# Define an EarlyStopping callback to stop training when validation loss stops improving\n",
        "early = tf.keras.callbacks.EarlyStopping(\n",
        "    monitor='val_loss',            # Metric to monitor (validation loss here)\n",
        "    patience=3,                   # Number of epochs to wait after last improvement before stopping\n",
        "    restore_best_weights=True     # After stopping, restore the model weights from the epoch with the best val_loss\n",
        ")"
      ],
      "metadata": {
        "id": "uXhjpv_Y-U5G"
      },
      "execution_count": null,
      "outputs": []
    },
    {
      "cell_type": "code",
      "source": [
        "# Set the number of epochs to train the model\n",
        "epochs = 15\n",
        "\n",
        "# Train the model on the training dataset 'datatrain'\n",
        "history = model.fit(\n",
        "    datatrain,                      # Training data generator or dataset\n",
        "    validation_data=datavalid,      # Validation data generator or dataset\n",
        "    epochs=epochs,                  # Number of training epochs\n",
        "    batch_size=100,                 # Number of samples per gradient update\n",
        "    callbacks=[early]               # List of callbacks to apply during training (e.g., early stopping)\n",
        ")"
      ],
      "metadata": {
        "id": "H0adUmj7-U2d"
      },
      "execution_count": null,
      "outputs": []
    },
    {
      "cell_type": "code",
      "source": [
        "model.summary() # Print the architecture summary of the  model"
      ],
      "metadata": {
        "id": "4SCgtftm-Uz0"
      },
      "execution_count": null,
      "outputs": []
    },
    {
      "cell_type": "code",
      "source": [
        "base_model.summary() # Print the architecture summary of the base model"
      ],
      "metadata": {
        "id": "hv3KKaGs-Uw8"
      },
      "execution_count": null,
      "outputs": []
    },
    {
      "cell_type": "code",
      "source": [
        "### Plotting Training and Validation Accuracy and Loss Over Epochs\n",
        "\n",
        "acc = history.history['Accuracy']           # Training accuracy\n",
        "val_acc = history.history['val_Accuracy']   # Validation accuracy\n",
        "loss = history.history['loss']              # Training loss\n",
        "val_loss = history.history['val_loss']      # Validation loss"
      ],
      "metadata": {
        "id": "tPLEgpSy-jic"
      },
      "execution_count": null,
      "outputs": []
    },
    {
      "cell_type": "code",
      "source": [
        "epochs_range = range(len(acc))              # X-axis range based on number of epochs\n",
        "\n",
        "plt.figure(figsize=(10, 8))                 # Set overall figure size\n",
        "\n",
        "plt.subplot(1, 2, 1)                        # 1 row, 2 columns, position 1\n",
        "plt.plot(epochs_range, acc, label='Training Accuracy')       # Plot training accuracy\n",
        "plt.plot(epochs_range, val_acc, label='Validation Accuracy') # Plot validation accuracy\n",
        "plt.legend(loc='lower right')              # Show legend at lower right\n",
        "plt.title('Training vs Validation Accuracy') # Set title for accuracy plot\n",
        "\n",
        "plt.subplot(1, 2, 2)                        # 1 row, 2 columns, position 2\n",
        "plt.plot(epochs_range, loss, label='Training Loss')          # Plot training loss\n",
        "plt.plot(epochs_range, val_loss, label='Validation Loss')    # Plot validation loss\n",
        "plt.legend(loc='upper right')              # Show legend at upper right\n",
        "plt.title('Training vs Validation Loss')    # Set title for loss plot\n",
        "\n",
        "plt.show()                                  # Display the plots"
      ],
      "metadata": {
        "id": "L4eCpeqO-jfE"
      },
      "execution_count": null,
      "outputs": []
    },
    {
      "cell_type": "code",
      "source": [
        "loss, accuracy = model.evaluate(datatest)\n",
        "print(f'Test accuracy is{accuracy:.4f}, Test loss is {loss:.4f}')"
      ],
      "metadata": {
        "id": "fZBVqRmZ-jcS"
      },
      "execution_count": null,
      "outputs": []
    },
    {
      "cell_type": "code",
      "source": [
        "### Evaluate Model Performance on Test Data using Confusion Matrix and Classification Report\n",
        "\n",
        "# Extract true labels from all batches\n",
        "y_true = np.concatenate([y.numpy() for x, y in datatest], axis=0)  # Ground truth labels\n",
        "\n",
        "# Get predictions as probabilities and then predicted classes\n",
        "y_pred_probs = model.predict(datatest)\n",
        "\n",
        "# Class with highest probability\n",
        "y_pred = np.argmax(y_pred_probs, axis=1)\n",
        "\n",
        "# Print confusion matrix and classification report\n",
        "print(confusion_matrix(y_true, y_pred))\n",
        "print(classification_report(y_true, y_pred))"
      ],
      "metadata": {
        "id": "lPOwsuIy-jZb"
      },
      "execution_count": null,
      "outputs": []
    },
    {
      "cell_type": "code",
      "source": [
        "### Plot Confusion Matrix as Heatmap for Better Visualization\n",
        "\n",
        "cm = confusion_matrix(y_true, y_pred)                                     # Compute confusion matrix\n",
        "                                                     # Import seaborn for visualization\n",
        "\n",
        "plt.figure(figsize=(10, 8))                                               # Set figure size\n",
        "sns.heatmap(cm, annot=True, fmt='d',\n",
        "            xticklabels=class_names,\n",
        "            yticklabels=class_names,\n",
        "            cmap='Blues')                                                 # Create heatmap with class labels\n",
        "\n",
        "plt.xlabel('Predicted')                                                   # Label for x-axis\n",
        "plt.ylabel('True')                                                        # Label for y-axis\n",
        "plt.title('Confusion Matrix')                                             # Title for the plot\n",
        "plt.show()                                                                # Display the plot"
      ],
      "metadata": {
        "id": "yfEKuAn2-jWk"
      },
      "execution_count": null,
      "outputs": []
    }
  ]
}